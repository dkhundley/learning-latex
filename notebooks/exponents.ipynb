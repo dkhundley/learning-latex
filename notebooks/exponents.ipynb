{
 "cells": [
  {
   "cell_type": "markdown",
   "id": "bd861f4b",
   "metadata": {},
   "source": [
    "# Exponent Reduction\n",
    "In this notebook, I'll be sharing how to reduce exponents in fraction form. We're going to start simple and work our way to a more complex problem!"
   ]
  },
  {
   "cell_type": "markdown",
   "id": "12d2c24e",
   "metadata": {},
   "source": [
    "## What's with all these symbols?\n",
    "One of the big turnoffs of math is that it uses a lot of different funky looking symbols. It can literally look like reading a different language, but the reason we have all these symbols is because **mathematical symbols are essentially writing shorthand for larger concepts**. Consider this basic addition problem:\n",
    "\n",
    "\\begin{equation*}\n",
    "1 + 2 = 3\n",
    "\\end{equation*}\n",
    "\n",
    "If we were to write this in plain English language, it would read as \"one added to two equals three\" or \"one plus two equals three.\" That's not too bad, but now let's consider this more complex little piece of math:\n",
    "\n",
    "\\begin{equation*}\n",
    "\\sum_{n=1}^{10}2x + 3\n",
    "\\end{equation*}\n",
    "\n",
    "Now this is a little more difficult to write out as plain English! If I were to try, it would look something like this: \"For every number between 1 and 10, multiply that number by 2 and then add 3 to it, then take all those numbers and add them together.\"\n",
    "\n",
    "As you can imagine, math gets even more complex than this, so throughout history, mathematicians have created this special notation to help make math easier to read. Unfortunately, this gets lots on most people as, understandably, this can look like a foreign language if you're unfamiliar with this kind of notation. (By the way, that thing that looks like a weird letter \"E\" in the last example is the Greek letter \"sigma\" in its capitalized form, which is always used to represent a sum of values.)"
   ]
  },
  {
   "cell_type": "markdown",
   "id": "aca59f85",
   "metadata": {},
   "source": [
    "## Understanding exponents"
   ]
  },
  {
   "cell_type": "markdown",
   "id": "9657b094",
   "metadata": {},
   "source": [
    "Understanding that mathematicians tend toward specific notation to represent certain concepts, let's break down what an exponent actually is. **Exponential notation is essentially a shorthand for multplying lots of the same number together.** Consider the following example:\n",
    "\n",
    "\\begin{equation*}\n",
    "2^4\n",
    "\\end{equation*}\n",
    "\n",
    "The big number (2) is known as the **base** of the exponent, whereas the little number (4) is known as the **power or degree** of the exponent. If you asked a mathematician to read this example aloud, they would read this as \"2 to the power of 4.\"\n",
    "\n",
    "But... what does \"2 to the power of 4\" even mean?\n",
    "\n",
    "Again, taking the exponent of a number is basically multiplying it by itself a number of times. In our example above, we are taking the number 2 and multiplying it by itself 4 different times. Another way to write this exponent would look like the following:\n",
    "\n",
    "\\begin{equation*}\n",
    "2^4 = 2 \\times 2 \\times 2 \\times 2\n",
    "\\end{equation*}"
   ]
  },
  {
   "cell_type": "markdown",
   "id": "441db3c9",
   "metadata": {},
   "source": [
    "## Dividing exponents\n",
    "By understanding how we can break down exponents into a simpler way to understand things, we can now better understand how we divide exponents. Let's consider this example:\n",
    "\n",
    "\\begin{equation*}\n",
    "\\frac{2^5}{2^3}\n",
    "\\end{equation*}\n",
    "\n",
    "If we break this exponent down like we did before, it looks like this:\n",
    "\n",
    "\\begin{equation*}\n",
    "\\frac{2^5}{2^3} = \\frac{2 \\times 2 \\times 2 \\times 2 \\times 2}{2 \\times 2 \\times 2}\n",
    "\\end{equation*}\n",
    "\n",
    "Now we can start cancelling out like terms from the top (aka the **numerator**) and the bottom (aka the **denominator**), we can start crossing things out like this:\n",
    "\n",
    "\\begin{equation*}\n",
    "\\frac{2 \\times 2 \\times 2 \\times 2 \\times 2}{\\cancel{2} \\times 2 \\times 2}\n",
    "\\end{equation*}"
   ]
  },
  {
   "cell_type": "code",
   "execution_count": null,
   "id": "297f7677",
   "metadata": {},
   "outputs": [],
   "source": []
  }
 ],
 "metadata": {
  "kernelspec": {
   "display_name": "Python 3 (ipykernel)",
   "language": "python",
   "name": "python3"
  },
  "language_info": {
   "codemirror_mode": {
    "name": "ipython",
    "version": 3
   },
   "file_extension": ".py",
   "mimetype": "text/x-python",
   "name": "python",
   "nbconvert_exporter": "python",
   "pygments_lexer": "ipython3",
   "version": "3.10.1"
  }
 },
 "nbformat": 4,
 "nbformat_minor": 5
}
